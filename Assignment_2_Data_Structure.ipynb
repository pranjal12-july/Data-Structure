{
  "nbformat": 4,
  "nbformat_minor": 0,
  "metadata": {
    "colab": {
      "provenance": []
    },
    "kernelspec": {
      "name": "python3",
      "display_name": "Python 3"
    },
    "language_info": {
      "name": "python"
    }
  },
  "cells": [
    {
      "cell_type": "markdown",
      "source": [
        "Question 1:\n",
        "What are data structures, and why are they important?\n",
        "\n",
        "Answer:\n",
        "Data structures are ways of organizing and storing data so it can be accessed and modified efficiently. They are important because they enable efficient data management, which is critical for solving complex problems and optimizing the performance of programs.\n",
        "\n",
        "Question 2:\n",
        "Explain the difference between mutable and immutable data types with examples.\n",
        "\n",
        "Answer:\n",
        "Mutable: Can be changed after creation.\n",
        "Example: list\n",
        "Immutable: Cannot be changed after creation.\n",
        "Example: tuple\n",
        "\n",
        "Question 3:\n",
        "What are the main differences between lists and tuples in Python?\n",
        "\n",
        "Answer:\n",
        "Mutability: Lists are mutable, tuples are immutable.\n",
        "Performance: Tuples are faster for iteration.\n",
        "Use cases: Lists are used when data needs to change; tuples are used for fixed collections.\n",
        "\n",
        "Question 4:\n",
        "Describe how dictionaries store data.\n",
        "\n",
        "Answer:\n",
        "Dictionaries use a hash table to store key-value pairs. Keys are hashed to compute an index, and the corresponding value is stored at that index.\n",
        "\n",
        "Question 5:\n",
        "Why might you use a set instead of a list in Python?\n",
        "\n",
        "Answer:\n",
        "Sets automatically remove duplicates.\n",
        "\n",
        "Question 6:\n",
        "What is a string, and how is it different from a list?\n",
        "\n",
        "Answer:\n",
        "A string is an immutable sequence of characters, while a list is mutable and can hold different data types.\n",
        "\n",
        "Question 7:\n",
        "How do tuples ensure data integrity in Python?\n",
        "\n",
        "Answer:\n",
        "Tuples are immutable, so their contents cannot be changed after creation. This ensures that data remains consistent.\n",
        "\n",
        "Question 8:\n",
        "What is a hash table, and how does it relate to dictionaries in Python?\n",
        "\n",
        "Answer:\n",
        "A hash table is a data structure that maps keys to values using a hash function. Python dictionaries use hash tables to provide fast access to key-value pairs.\n",
        "\n",
        "Question 9:\n",
        "Can lists contain different data types in Python?\n",
        "\n",
        "Answer:\n",
        "Yes\n",
        "\n",
        "Question 10:\n",
        "Explain why strings are immutable in Python.\n",
        "\n",
        "Answer:\n",
        "Strings in Python are immutable for performance, thread-safety, hashability, and predictable behavior. This design choice makes strings efficient and reliable for various operations.\n",
        "\n",
        "Question 11:\n",
        "What advantages do dictionaries offer over lists for certain tasks?\n",
        "\n",
        "Answer:\n",
        "Dictionaries provide faster lookups for key-value pairs and are better suited for structured data.\n",
        "\n",
        "Question 12:\n",
        "Describe a scenario where using a tuple would be preferable over a list.\n",
        "\n",
        "Answer:\n",
        "When you need to ensure data integrity, like storing geographic coordinates.\n",
        "\n",
        "Question 13:\n",
        "How do sets handle duplicate values in Python?\n",
        "\n",
        "Answer:\n",
        "Sets automatically remove duplicate values\n",
        "\n",
        "Question 14:\n",
        "How does the “in” keyword work differently for lists and dictionaries?\n",
        "\n",
        "Answer:\n",
        "Lists: Checks if an element is in the list.\n",
        "Dictionaries: Checks if a key is in the dictionary.\n",
        "\n",
        "Question 15:\n",
        "Can you modify the elements of a tuple? Explain why or why not.\n",
        "\n",
        "Answer:\n",
        "No, tuples are immutable. To change elements, you must create a new tuple.\n",
        "It is because:\n",
        "Design choice: Immutability makes tuples hashable, which means they can be used as keys in dictionaries or elements in sets. This is not possible with mutable objects like lists.\n",
        "Performance: Tuples are optimized for access and iteration because they do not require the overhead of tracking changes.\n",
        "Safety: By preventing modification, tuples ensure that the data remains secure and predictable.\n",
        "\n",
        "Question 16:\n",
        "What is a nested dictionary, and give an example of its use case.\n",
        "\n",
        "Answer:\n",
        "A nested dictionary contains dictionaries as values.\n",
        "Example\n",
        "students = { \"Alice\": {\"age\": 25, \"major\": \"CS\"},\n",
        "    \"Bob\": {\"age\": 22, \"major\": \"Math\"}}\n",
        "\n",
        "Question 17:\n",
        "Describe the time complexity of accessing elements in a dictionary.\n",
        "\n",
        "Answer:\n",
        "Accessing an element in a dictionary is 𝑂(1)on average due to hash table usage.\n",
        "\n",
        "Question 18:\n",
        "In what situations are lists preferred over dictionaries?\n",
        "\n",
        "Answer:\n",
        "Lists are preferred for ordered data or when order is important.\n",
        "\n",
        "Question 19:\n",
        "Why are dictionaries considered unordered, and how does that affect data retrieval?\n",
        "\n",
        "Answer:\n",
        "Dictionaries in Python were unordered because they were implemented as hash tables, focusing on fast lookups rather than maintaining orde\n",
        "\n",
        "Question 20:\n",
        "Explain the difference between a list and a dictionary in terms of data retrieval.\n",
        "\n",
        "Answer:\n",
        "Lists: Retrieval is based on index.\n",
        "Dictionaries: Retrieval is based on keys.\n",
        "\n"
      ],
      "metadata": {
        "id": "TG-bGf1OlLKD"
      }
    },
    {
      "cell_type": "markdown",
      "source": [
        "**PRACTICAL QUESTION**\n"
      ],
      "metadata": {
        "id": "fWjt9nRBt74H"
      }
    },
    {
      "cell_type": "markdown",
      "source": [
        "Question 1: Write a code to create a string with your name and print it?"
      ],
      "metadata": {
        "id": "xG67oFaEpgaH"
      }
    },
    {
      "cell_type": "code",
      "source": [
        "name = \"Pranjal Mittal\"\n",
        "print(name)\n"
      ],
      "metadata": {
        "colab": {
          "base_uri": "https://localhost:8080/"
        },
        "id": "DwjV9ij-pgpb",
        "outputId": "f9f2f780-94ba-4393-a22a-b4c61e1d04b6"
      },
      "execution_count": null,
      "outputs": [
        {
          "output_type": "stream",
          "name": "stdout",
          "text": [
            "Pranjal Mittal\n"
          ]
        }
      ]
    },
    {
      "cell_type": "markdown",
      "source": [
        "Question 2: Write a code to find the length of the string \"Hello World\"."
      ],
      "metadata": {
        "id": "SqRGZLvbpg2w"
      }
    },
    {
      "cell_type": "code",
      "source": [
        "string = \"Hello World\"\n",
        "print(len(string))\n"
      ],
      "metadata": {
        "colab": {
          "base_uri": "https://localhost:8080/"
        },
        "id": "eEpryNCQvSe_",
        "outputId": "773a6d36-b12c-4bdf-b584-e3004f554af6"
      },
      "execution_count": null,
      "outputs": [
        {
          "output_type": "stream",
          "name": "stdout",
          "text": [
            "11\n"
          ]
        }
      ]
    },
    {
      "cell_type": "markdown",
      "source": [
        "Question 3: Write a code to slice the first 3 characters from the string \"Python Programming\"."
      ],
      "metadata": {
        "id": "2aurWipWphM2"
      }
    },
    {
      "cell_type": "code",
      "source": [
        "string = \"Python Programming\"\n",
        "sliced_string = string[:3]\n",
        "print(sliced_string)\n"
      ],
      "metadata": {
        "colab": {
          "base_uri": "https://localhost:8080/"
        },
        "id": "57VGT7f3phXO",
        "outputId": "56bb4d2c-77dc-4d64-ed01-8b96c3d15a62"
      },
      "execution_count": null,
      "outputs": [
        {
          "output_type": "stream",
          "name": "stdout",
          "text": [
            "Pyt\n"
          ]
        }
      ]
    },
    {
      "cell_type": "markdown",
      "source": [
        "Question 4: Write a code to convert the string \"hello\" to uppercase."
      ],
      "metadata": {
        "id": "-IKpAglRphiZ"
      }
    },
    {
      "cell_type": "code",
      "source": [
        "string = \"hello\"\n",
        "uppercase_string = string.upper()\n",
        "print(uppercase_string)\n"
      ],
      "metadata": {
        "colab": {
          "base_uri": "https://localhost:8080/"
        },
        "id": "ab57UQlvphsZ",
        "outputId": "1366a960-329b-451d-e2bc-82796018449f"
      },
      "execution_count": null,
      "outputs": [
        {
          "output_type": "stream",
          "name": "stdout",
          "text": [
            "HELLO\n"
          ]
        }
      ]
    },
    {
      "cell_type": "markdown",
      "source": [
        "Question 5: Write a code to replace the word \"apple\" with \"orange\" in the string \"I like apple\"E\n"
      ],
      "metadata": {
        "id": "Gzd17ziaph3E"
      }
    },
    {
      "cell_type": "code",
      "source": [
        "string = \"I like apple\"\n",
        "modified_string = string.replace(\"apple\", \"orange\")\n",
        "print(modified_string)\n"
      ],
      "metadata": {
        "colab": {
          "base_uri": "https://localhost:8080/"
        },
        "id": "zx5P05_NpiCv",
        "outputId": "6cdd205a-a56c-48bc-f0e0-638a8605bb73"
      },
      "execution_count": null,
      "outputs": [
        {
          "output_type": "stream",
          "name": "stdout",
          "text": [
            "I like orange\n"
          ]
        }
      ]
    },
    {
      "cell_type": "markdown",
      "source": [
        "Question 6: Write a code to create a list with numbers 1 to 5 and print it."
      ],
      "metadata": {
        "id": "NmHqqYaxpiPh"
      }
    },
    {
      "cell_type": "code",
      "source": [
        "numbers = [1, 2, 3, 4, 5]\n",
        "print(numbers)\n"
      ],
      "metadata": {
        "colab": {
          "base_uri": "https://localhost:8080/"
        },
        "id": "YZRtSpE4piZt",
        "outputId": "fa125cd1-f835-41b9-b3aa-d6e48588c808"
      },
      "execution_count": null,
      "outputs": [
        {
          "output_type": "stream",
          "name": "stdout",
          "text": [
            "[1, 2, 3, 4, 5]\n"
          ]
        }
      ]
    },
    {
      "cell_type": "markdown",
      "source": [
        "Question 7: Write a code to append the number 10 to the list [1, 2, 3, 4]."
      ],
      "metadata": {
        "id": "8N75_Fj2pilX"
      }
    },
    {
      "cell_type": "code",
      "source": [
        "numbers = [1, 2, 3, 4]\n",
        "numbers.append(10)\n",
        "print(numbers)\n"
      ],
      "metadata": {
        "colab": {
          "base_uri": "https://localhost:8080/"
        },
        "id": "KA3u7in3piwD",
        "outputId": "54e3132d-6c29-4077-dc39-6148b7bc12c6"
      },
      "execution_count": null,
      "outputs": [
        {
          "output_type": "stream",
          "name": "stdout",
          "text": [
            "[1, 2, 3, 4, 10]\n"
          ]
        }
      ]
    },
    {
      "cell_type": "markdown",
      "source": [
        "Question 8: Write a code to remove the number 3 from the list [1, 2, 3, 4, 5]."
      ],
      "metadata": {
        "id": "3yaqaDmEpi6u"
      }
    },
    {
      "cell_type": "code",
      "source": [
        "numbers = [1, 2, 3, 4, 5]\n",
        "numbers.remove(3)\n",
        "print(numbers)"
      ],
      "metadata": {
        "colab": {
          "base_uri": "https://localhost:8080/"
        },
        "id": "3rhMXU8XpjGK",
        "outputId": "f294e851-4236-4f5f-b4d6-44be05d1f910"
      },
      "execution_count": null,
      "outputs": [
        {
          "output_type": "stream",
          "name": "stdout",
          "text": [
            "[1, 2, 4, 5]\n"
          ]
        }
      ]
    },
    {
      "cell_type": "markdown",
      "source": [
        "Question 9: Write a code to access the second element in the list ['a', 'b', 'c', 'd']."
      ],
      "metadata": {
        "id": "9JJp6jSApjRF"
      }
    },
    {
      "cell_type": "code",
      "source": [
        "letters = ['a', 'b', 'c', 'd']\n",
        "second_element = letters[1]\n",
        "print(second_element)"
      ],
      "metadata": {
        "colab": {
          "base_uri": "https://localhost:8080/"
        },
        "id": "DDsXgivupjcC",
        "outputId": "aaca8801-ee84-4230-f8e1-024fec7e57c7"
      },
      "execution_count": null,
      "outputs": [
        {
          "output_type": "stream",
          "name": "stdout",
          "text": [
            "b\n"
          ]
        }
      ]
    },
    {
      "cell_type": "markdown",
      "source": [
        "Question 10: Write a code to reverse the list [10, 20, 30, 40, 50]."
      ],
      "metadata": {
        "id": "wPWuaHJqpjnS"
      }
    },
    {
      "cell_type": "code",
      "source": [
        "numbers = [10, 20, 30, 40, 50]\n",
        "reversed_numbers = numbers[::-1]\n",
        "print(reversed_numbers)"
      ],
      "metadata": {
        "colab": {
          "base_uri": "https://localhost:8080/"
        },
        "id": "9VcTl8Smpjx8",
        "outputId": "2d4a2639-c7b8-4ab5-ccff-731c4fb79da5"
      },
      "execution_count": null,
      "outputs": [
        {
          "output_type": "stream",
          "name": "stdout",
          "text": [
            "[50, 40, 30, 20, 10]\n"
          ]
        }
      ]
    },
    {
      "cell_type": "markdown",
      "source": [
        "Question 11: Write a code to create a tuple with the elements 10, 20, 30 and print it."
      ],
      "metadata": {
        "id": "dhVA3S0xpj8U"
      }
    },
    {
      "cell_type": "code",
      "source": [
        "my_tuple = (10, 20, 30)\n",
        "print(my_tuple)"
      ],
      "metadata": {
        "colab": {
          "base_uri": "https://localhost:8080/"
        },
        "id": "qkJ6V_SSpkHB",
        "outputId": "3eebcf14-4b3d-450d-dfb1-1f34c88b61ab"
      },
      "execution_count": null,
      "outputs": [
        {
          "output_type": "stream",
          "name": "stdout",
          "text": [
            "(10, 20, 30)\n"
          ]
        }
      ]
    },
    {
      "cell_type": "markdown",
      "source": [
        "Question 12: Write a code to access the first element of the tuple ('apple', 'banana', 'cherry')."
      ],
      "metadata": {
        "id": "ZTRt19gVpkRN"
      }
    },
    {
      "cell_type": "code",
      "source": [
        "fruits = ('apple', 'banana', 'cherry')\n",
        "first_element = fruits[0]\n",
        "print(first_element)\n"
      ],
      "metadata": {
        "colab": {
          "base_uri": "https://localhost:8080/"
        },
        "id": "NV1ADru_pkbX",
        "outputId": "93ff6e1e-2aa8-4828-a36d-f0db7775778d"
      },
      "execution_count": null,
      "outputs": [
        {
          "output_type": "stream",
          "name": "stdout",
          "text": [
            "apple\n"
          ]
        }
      ]
    },
    {
      "cell_type": "markdown",
      "source": [
        "Question 13:  Write a code to count how many times the number 2 appears in the tuple (1, 2, 3, 2, 4, 2).\n"
      ],
      "metadata": {
        "id": "SurPcU4dpklf"
      }
    },
    {
      "cell_type": "code",
      "source": [
        "numbers = (1, 2, 3, 2, 4, 2)\n",
        "count_of_two = numbers.count(2)\n",
        "print(count_of_two)\n"
      ],
      "metadata": {
        "colab": {
          "base_uri": "https://localhost:8080/"
        },
        "id": "EwGGYbGspkv7",
        "outputId": "9efa7a51-1ae8-4a86-b541-afa4913b3adf"
      },
      "execution_count": null,
      "outputs": [
        {
          "output_type": "stream",
          "name": "stdout",
          "text": [
            "3\n"
          ]
        }
      ]
    },
    {
      "cell_type": "markdown",
      "source": [
        "Question 14:  Write a code to find the index of the element \"cat\" in the tuple ('dog', 'cat', 'rabbit')"
      ],
      "metadata": {
        "id": "2bVqnsqapk5_"
      }
    },
    {
      "cell_type": "code",
      "source": [
        "animals = ('dog', 'cat', 'rabbit')\n",
        "cat_index = animals.index('cat')\n",
        "print(cat_index)\n"
      ],
      "metadata": {
        "colab": {
          "base_uri": "https://localhost:8080/"
        },
        "id": "YdBdgLrPplEe",
        "outputId": "c30d15b5-f619-4d08-acca-a75c101a6195"
      },
      "execution_count": null,
      "outputs": [
        {
          "output_type": "stream",
          "name": "stdout",
          "text": [
            "1\n"
          ]
        }
      ]
    },
    {
      "cell_type": "markdown",
      "source": [
        "Question 15: Write a code to check if the element \"banana\" is in the tuple ('apple', 'orange', 'banana')"
      ],
      "metadata": {
        "id": "-KS5Pje2plP7"
      }
    },
    {
      "cell_type": "code",
      "source": [
        "fruits = ('apple', 'orange', 'banana')\n",
        "is_banana_present = 'banana' in fruits\n",
        "print(is_banana_present)"
      ],
      "metadata": {
        "colab": {
          "base_uri": "https://localhost:8080/"
        },
        "id": "ZtUrwqQ_plaY",
        "outputId": "0ba71e36-83df-4841-f97c-86fed7b4749a"
      },
      "execution_count": null,
      "outputs": [
        {
          "output_type": "stream",
          "name": "stdout",
          "text": [
            "True\n"
          ]
        }
      ]
    },
    {
      "cell_type": "markdown",
      "source": [
        " Question 16: Write a code to create a set with the elements 1, 2, 3, 4, 5 and print it.\n"
      ],
      "metadata": {
        "id": "vSEHE2OupllS"
      }
    },
    {
      "cell_type": "code",
      "source": [
        "my_set = {1, 2, 3, 4, 5}\n",
        "print(my_set)"
      ],
      "metadata": {
        "id": "xEnPRivDplu-",
        "colab": {
          "base_uri": "https://localhost:8080/"
        },
        "outputId": "43404c51-8ba5-4260-b189-a59af76898de"
      },
      "execution_count": null,
      "outputs": [
        {
          "output_type": "stream",
          "name": "stdout",
          "text": [
            "{1, 2, 3, 4, 5}\n"
          ]
        }
      ]
    },
    {
      "cell_type": "markdown",
      "source": [
        "Question 17:  Write a code to add the element 6 to the set {1, 2, 3, 4}"
      ],
      "metadata": {
        "id": "evsJCRPWpl6G"
      }
    },
    {
      "cell_type": "code",
      "source": [
        "another_set = {1, 2, 3, 4}\n",
        "another_set.add(6)\n",
        "print(another_set)"
      ],
      "metadata": {
        "id": "l6_8JR9mpmFU",
        "colab": {
          "base_uri": "https://localhost:8080/"
        },
        "outputId": "51aa26b2-0864-4bba-c01f-d69d891667ab"
      },
      "execution_count": null,
      "outputs": [
        {
          "output_type": "stream",
          "name": "stdout",
          "text": [
            "{1, 2, 3, 4, 6}\n"
          ]
        }
      ]
    },
    {
      "cell_type": "markdown",
      "source": [
        "Question 18: Write a code to create a tuple with the elements 10, 20, 30 and print it"
      ],
      "metadata": {
        "id": "yKuM3mOppmQg"
      }
    },
    {
      "cell_type": "code",
      "source": [
        "my_tuple = (10, 20, 30)\n",
        "print(my_tuple)"
      ],
      "metadata": {
        "id": "c9DZtBBUpma9",
        "colab": {
          "base_uri": "https://localhost:8080/"
        },
        "outputId": "17d6ae6a-d470-42e6-b4f4-ea5e097db327"
      },
      "execution_count": null,
      "outputs": [
        {
          "output_type": "stream",
          "name": "stdout",
          "text": [
            "(10, 20, 30)\n"
          ]
        }
      ]
    },
    {
      "cell_type": "markdown",
      "source": [
        "Question 19: Write a code to access the first element of the tuple ('apple', 'banana', 'cherry')"
      ],
      "metadata": {
        "id": "C2ptfAu1pmlo"
      }
    },
    {
      "cell_type": "code",
      "source": [
        "fruits = ('apple', 'banana', 'cherry')\n",
        "print(fruits[0])"
      ],
      "metadata": {
        "id": "uGekTCE2pmwj",
        "colab": {
          "base_uri": "https://localhost:8080/"
        },
        "outputId": "81be97a6-7a31-4f9f-edb7-62caa030d4e9"
      },
      "execution_count": null,
      "outputs": [
        {
          "output_type": "stream",
          "name": "stdout",
          "text": [
            "apple\n"
          ]
        }
      ]
    },
    {
      "cell_type": "markdown",
      "source": [
        "Question 20: Write a code to count how many times the number 2 appears in the tuple (1, 2, 3, 2, 4, 2)."
      ],
      "metadata": {
        "id": "-aFUCsKtpm7d"
      }
    },
    {
      "cell_type": "code",
      "source": [
        "numbers = (1, 2, 3, 2, 4, 2)\n",
        "print(numbers.count(2))"
      ],
      "metadata": {
        "id": "XDPjYxFzpnFr",
        "colab": {
          "base_uri": "https://localhost:8080/"
        },
        "outputId": "473a6e52-010e-4976-e9f1-d6da16d2c9ca"
      },
      "execution_count": null,
      "outputs": [
        {
          "output_type": "stream",
          "name": "stdout",
          "text": [
            "3\n"
          ]
        }
      ]
    },
    {
      "cell_type": "markdown",
      "source": [
        "Question 21: Write a code to find the index of the element \"cat\" in the tuple ('dog', 'cat', 'rabbit')."
      ],
      "metadata": {
        "id": "cV3EppHspnQ0"
      }
    },
    {
      "cell_type": "code",
      "source": [
        "animals = ('dog', 'cat', 'rabbit')\n",
        "print(animals.index('cat'))"
      ],
      "metadata": {
        "id": "L4GPruE9pndX",
        "colab": {
          "base_uri": "https://localhost:8080/"
        },
        "outputId": "af55d85a-5ecf-4110-de0c-fbfebfc1826b"
      },
      "execution_count": null,
      "outputs": [
        {
          "output_type": "stream",
          "name": "stdout",
          "text": [
            "1\n"
          ]
        }
      ]
    },
    {
      "cell_type": "markdown",
      "source": [
        "Question 22: Write a code to check if the element \"banana\" is in the tuple ('apple', 'orange', 'banana')."
      ],
      "metadata": {
        "id": "FH4lWM0ApnqM"
      }
    },
    {
      "cell_type": "code",
      "source": [
        "fruits = ('apple', 'orange', 'banana')\n",
        "print('banana' in fruits)"
      ],
      "metadata": {
        "id": "KlwXfgu7pn1T",
        "colab": {
          "base_uri": "https://localhost:8080/"
        },
        "outputId": "654561c0-680d-4b56-90c3-9cd4348f6143"
      },
      "execution_count": null,
      "outputs": [
        {
          "output_type": "stream",
          "name": "stdout",
          "text": [
            "True\n"
          ]
        }
      ]
    },
    {
      "cell_type": "markdown",
      "source": [
        "Question 23: Write a code to create a set with the elements 1, 2, 3, 4, 5 and print it."
      ],
      "metadata": {
        "id": "VWAs4UVrpoAP"
      }
    },
    {
      "cell_type": "code",
      "source": [
        "my_set = {1, 2, 3, 4, 5}\n",
        "print(my_set)"
      ],
      "metadata": {
        "id": "PkLW8r-fpoLL",
        "colab": {
          "base_uri": "https://localhost:8080/"
        },
        "outputId": "8b500056-5e0f-4573-ac98-23dee4a62ade"
      },
      "execution_count": null,
      "outputs": [
        {
          "output_type": "stream",
          "name": "stdout",
          "text": [
            "{1, 2, 3, 4, 5}\n"
          ]
        }
      ]
    },
    {
      "cell_type": "markdown",
      "source": [
        "Question 24: Write a code to add the element 6 to the set {1, 2, 3, 4}."
      ],
      "metadata": {
        "id": "VnoNf0BJty35"
      }
    },
    {
      "cell_type": "code",
      "source": [
        "another_set = {1, 2, 3, 4}\n",
        "another_set.add(6)\n",
        "print(another_set)"
      ],
      "metadata": {
        "colab": {
          "base_uri": "https://localhost:8080/"
        },
        "id": "HfNgOwk4tyFJ",
        "outputId": "fb9a89d0-dad3-42a6-c0dc-af56a25fe2d3"
      },
      "execution_count": null,
      "outputs": [
        {
          "output_type": "stream",
          "name": "stdout",
          "text": [
            "{1, 2, 3, 4, 6}\n"
          ]
        }
      ]
    }
  ]
}